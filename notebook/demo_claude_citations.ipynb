{
 "cells": [
  {
   "metadata": {
    "ExecuteTime": {
     "end_time": "2025-04-02T13:53:21.752049Z",
     "start_time": "2025-04-02T13:53:12.618155Z"
    }
   },
   "cell_type": "code",
   "source": [
    "from src.agents.providers.anthropic_provider import ask_with_citations\n",
    "\n",
    "ask_with_citations(\n",
    "    \"What are causes of fatigue?\", [\n",
    "    {\n",
    "        \"title\": \"Fatigue overview\",\n",
    "        \"data\": \"\"\n",
    "    }\n",
    "    ]\n",
    ")"
   ],
   "id": "39bb0899a1fa5a71",
   "outputs": [
    {
     "name": "stdout",
     "output_type": "stream",
     "text": [
      "Answer:\n",
      "Fatigue is a common symptom that can stem from multiple sources [1]. The most common causes include:\n",
      "\n",
      "Lifestyle factors such as inadequate sleep, which can significantly decrease energy levels [2,3]. Chronic stress is another important contributor that can drain the body's resources and lead to fatigue [4,5]. Additionally, poor nutritional intake lacking essential nutrients can result in low energy levels [6,7]. A sedentary lifestyle with insufficient physical activity may paradoxically lead to decreased energy and persistent fatigue [12,13].\n",
      "\n",
      "Medical causes are also significant contributors to fatigue. Various conditions including anemia, thyroid disorders, and chronic fatigue syndrome can manifest fatigue as a primary symptom [8,9]. Certain medications may produce fatigue as a side effect [10,11]. Mental health conditions, particularly depression and anxiety, commonly present with fatigue as a prominent symptom [14,15].\n",
      "\n",
      "Quotes:\n",
      "[1] \"Fatigue is a common symptom that can be caused by a variety of factors.\" – Fatigue overview\n",
      "[2] \"Some of the most common causes include:\" – Fatigue overview\n",
      "[3] \"Lack of sleep: Not getting enough sleep can lead to fatigue and decreased energy levels.\" – Fatigue overview\n",
      "[4] \"2.\" – Fatigue overview\n",
      "[5] \"Stress: Chronic stress can take a toll on the body and lead to feelings of fatigue.\" – Fatigue overview\n",
      "[6] \"3.\" – Fatigue overview\n",
      "[7] \"Poor diet: A diet lacking in essential nutrients can lead to fatigue and low energy levels.\" – Fatigue overview\n",
      "[8] \"4.\" – Fatigue overview\n",
      "[9] \"Medical conditions: Certain medical conditions, such as anemia, thyroid disorders, and chronic fatigue syndrome, can cause fatigue.\" – Fatigue overview\n",
      "[10] \"5.\" – Fatigue overview\n",
      "[11] \"Medications: Some medications can cause fatigue as a side effect.\" – Fatigue overview\n",
      "[12] \"6.\" – Fatigue overview\n",
      "[13] \"Sedentary lifestyle: Lack of physical activity can lead to decreased energy levels and fatigue.\" – Fatigue overview\n",
      "[14] \"7.\" – Fatigue overview\n",
      "[15] \"Mental health issues: Conditions such as depression and anxiety can also contribute to feelings of fatigue.\" – Fatigue overview\n"
     ]
    }
   ],
   "execution_count": 16
  },
  {
   "metadata": {
    "ExecuteTime": {
     "end_time": "2025-04-02T14:42:22.872649Z",
     "start_time": "2025-04-02T14:41:49.537818Z"
    }
   },
   "cell_type": "code",
   "source": [
    "from src.agents.providers.anthropic_provider import ask_with_citations\n",
    "import base64\n",
    "\n",
    "pdf_path = 'data/Constitutional AI.pdf'\n",
    "with open(pdf_path, \"rb\") as f:\n",
    "    pdf_data = base64.b64encode(f.read()).decode()\n",
    "\n",
    "ask_with_citations(\n",
    "    \"What is the main idea of Constitutional AI?\", [\n",
    "    {\n",
    "        \"title\": \"Constitutional AI Paper\",\n",
    "        \"data\": pdf_data\n",
    "    }\n",
    "    ]\n",
    ")"
   ],
   "id": "5fff338176878696",
   "outputs": [
    {
     "name": "stdout",
     "output_type": "stream",
     "text": [
      "Based on the document, the main ideas of Constitutional AI (CAI) are:\n",
      "\n",
      "1. Constitutional AI is a method for training a harmless AI assistant through self-improvement, without using human labels to identify harmful outputs. The only human oversight is provided through a list of rules or principles, which they refer to as a 'constitution'. 2. The method involves two key stages: a) A supervised learning phase where they:\n",
      "- Sample from an initial model\n",
      "- Generate self-critiques and revisions\n",
      "- Finetune the original model on revised responses\n",
      "\n",
      "b) A reinforcement learning (RL) phase where they:\n",
      "- Sample from the finetuned model\n",
      "- Use a model to evaluate which of two samples is better\n",
      "- Train a preference model from this dataset of AI preferences 3. Key goals and motivations include: - Studying possibilities for using AI systems to help supervise other AIs\n",
      "- Improving training of a harmless AI assistant by:\n",
      "  * Eliminating evasive responses\n",
      "  * Reducing tension between helpfulness and harmlessness\n",
      "  * Encouraging the AI to explain its objections to harmful requests\n",
      "- Making the principles governing AI behavior more transparent\n",
      "- Reducing iteration time by avoiding the need to collect new human feedback labels 4. The ultimate aim is not to remove human supervision entirely, but to make it more:\n",
      "- Efficient\n",
      "- Transparent\n",
      "- Targeted\n",
      "\n",
      "While they still relied on human supervision for helpfulness labels in this work, they expect it might be possible to achieve helpfulness and instruction-following without human feedback in the future. 5. The constitutional methods are very general and could potentially be applied to:\n",
      "- Change a model's writing style, tone, or personality\n",
      "- Alter responses to specific categories of questions\n",
      "- Make it easier to study how different AI behaviors generalize and interact The core innovation is using the AI's own capabilities for self-critique, revision, and evaluation to create a more principled and controllable AI system.\n"
     ]
    }
   ],
   "execution_count": 1
  }
 ],
 "metadata": {
  "kernelspec": {
   "name": "python3",
   "language": "python",
   "display_name": "Python 3 (ipykernel)"
  }
 },
 "nbformat": 5,
 "nbformat_minor": 9
}
