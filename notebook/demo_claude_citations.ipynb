{
 "cells": [
  {
   "metadata": {
    "ExecuteTime": {
     "end_time": "2025-04-02T20:14:56.646428Z",
     "start_time": "2025-04-02T20:14:54.278949Z"
    }
   },
   "cell_type": "code",
   "source": [
    "from src.agents.providers.anthropic_provider import ask_with_citations\n",
    "\n",
    "ask_with_citations(\n",
    "    \"What are causes of fatigue?\", [\n",
    "    {\n",
    "        \"title\": \"Fatigue overview\",\n",
    "        \"data\": \"Fatigue is a common symptom that can be caused by a variety of factors, including: Dehydration, Sleep deprivation, Stress, Medical conditions (e.g., anemia, thyroid disorders), Medications (e.g., antihistamines, sedatives), Poor nutrition, Sedentary lifestyle, Mental health issues (e.g., depression, anxiety), Chronic fatigue syndrome.\"\n",
    "    },\n",
    "    {\n",
    "        \"title\": \"Fatigue Symptoms (mayoclinic.org)\",\n",
    "        \"data\": \"Most of the time fatigue can be traced to one or more lifestyle issues, such as poor sleep habits or lack of exercise. Fatigue can be caused by a medicine or linked to depression. Sometimes fatigue is a symptom of an illness that needs treatment.\"\n",
    "    }\n",
    "    ]\n",
    ")"
   ],
   "id": "39bb0899a1fa5a71",
   "outputs": [
    {
     "name": "stdout",
     "output_type": "stream",
     "text": [
      "Answer :\n",
      "Based on the documents, fatigue has multiple potential causes that can be broadly categorized into lifestyle factors, medical conditions, and medications: Common causes of fatigue include:\n",
      "- Dehydration\n",
      "- Sleep deprivation\n",
      "- Stress\n",
      "- Medical conditions like anemia and thyroid disorders\n",
      "- Medications such as antihistamines and sedatives\n",
      "- Poor nutrition\n",
      "- Sedentary lifestyle\n",
      "- Mental health conditions including depression and anxiety\n",
      "- Chronic fatigue syndrome [1]  While fatigue is most commonly related to lifestyle factors like poor sleep habits or lack of exercise, it can also be linked to medications, depression, or serve as a symptom of an underlying illness requiring treatment [2] .\n",
      "\n",
      "Quotes :\n",
      "[1] \"Fatigue is a common symptom that can be caused by a variety of factors, including: Dehydration, Sleep deprivation, Stress, Medical conditions (e.g., anemia, thyroid disorders), Medications (e.g., antihistamines, sedatives), Poor nutrition, Sedentary lifestyle, Mental health issues (e.g., depression, anxiety), Chronic fatigue syndrome.\" – Fatigue overview\n",
      "[2] \"Most of the time fatigue can be traced to one or more lifestyle issues, such as poor sleep habits or lack of exercise. Fatigue can be caused by a medicine or linked to depression. Sometimes fatigue is a symptom of an illness that needs treatment.\" – Fatigue Symptoms (mayoclinic.org)\n",
      "\n",
      "🔢 Tokens used: input=1036, output=189\n"
     ]
    }
   ],
   "execution_count": 3
  },
  {
   "metadata": {
    "ExecuteTime": {
     "end_time": "2025-04-02T20:14:48.220572Z",
     "start_time": "2025-04-02T20:14:45.760887Z"
    }
   },
   "cell_type": "code",
   "source": [
    "from src.agents.providers.anthropic_provider import ask_with_citations\n",
    "\n",
    "ask_with_citations(\n",
    "    \"What are causes of fatigue?\", [\n",
    "    {\n",
    "        \"title\": \"Fatigue overview\",\n",
    "        \"data\": \"Fatigue is normal, validate by wikipedia\"\n",
    "    }\n",
    "    ]\n",
    ")"
   ],
   "id": "476f076c19eef591",
   "outputs": [
    {
     "name": "stdout",
     "output_type": "stream",
     "text": [
      "Answer :\n",
      "The provided document does not contain sufficient information to answer your question about the causes of fatigue. While the document mentions fatigue, it does not discuss any specific causes.\n",
      "\n",
      "Quotes:\n",
      "No relevant quotes.\n",
      "\n",
      "To properly answer your question about causes of fatigue, we would need additional information from medical sources that specifically discuss various physiological, psychological, and lifestyle factors that can contribute to fatigue.\n",
      "\n",
      "🔢 Tokens used: input=778, output=85\n"
     ]
    }
   ],
   "execution_count": 2
  },
  {
   "metadata": {
    "ExecuteTime": {
     "end_time": "2025-04-02T20:07:07.447573Z",
     "start_time": "2025-04-02T20:06:44.549267Z"
    }
   },
   "cell_type": "code",
   "source": [
    "from src.agents.providers.anthropic_provider import ask_with_citations\n",
    "import base64\n",
    "\n",
    "pdf_path = 'data/Constitutional AI.pdf'\n",
    "with open(pdf_path, \"rb\") as f:\n",
    "    pdf_data = base64.b64encode(f.read()).decode()\n",
    "\n",
    "ask_with_citations(\n",
    "    \"What is the main idea of Constitutional AI?\", [\n",
    "    {\n",
    "        \"title\": \"Constitutional AI Paper\",\n",
    "        \"data\": pdf_data\n",
    "    }\n",
    "    ]\n",
    ")"
   ],
   "id": "5fff338176878696",
   "outputs": [
    {
     "name": "stdout",
     "output_type": "stream",
     "text": [
      "Answer :\n",
      "Based on the paper, here are the key aspects of Constitutional AI: Constitutional AI is a method for training a harmless AI assistant through self-improvement, without any human labels identifying harmful outputs. The only human oversight is provided through a list of rules or principles, hence the name \"Constitutional AI\". [1] The process has two main stages:\n",
      "\n",
      "1. Supervised Learning Phase: In this phase, they sample from an initial model, generate self-critiques and revisions, and then finetune the original model on revised responses. [2] 2. Reinforcement Learning Phase: In this phase, they:\n",
      "- Sample from the finetuned model\n",
      "- Use a model to evaluate which samples are better\n",
      "- Train a preference model from this dataset of AI preferences\n",
      "- Use \"RL from AI Feedback\" (RLAIF) [3] The key outcomes are: - They are able to train a harmless but non-evasive AI assistant that engages with harmful queries by explaining its objections\n",
      "- Both SL and RL methods can leverage chain-of-thought reasoning to improve performance and transparency\n",
      "- These methods make it possible to control AI behavior more precisely with far fewer human labels [4]  The technique is called 'constitutional AI' because it uses a 'constitution' consisting of human-written principles. It established two methods: (1) Constitutional AI which 'bootstraps' a helpful RLHF's instruction-following abilities to critique and revise its own responses to remove harmful content, and (2) RL with model-generated labels for harmlessness, which further improves harmlessness. [5]\n",
      "\n",
      "Quotes :\n",
      "[1] \"We experiment with methods for training a harmless AI assistant through self\u0002improvement, without any human labels identifying harmful outputs. The only human\r\n",
      "oversight is provided through a list of rules or principles, and so we refer to the method as\r\n",
      "‘Constitutional AI’.\" – Constitutional AI Paper\n",
      "[2] \"In the supervised phase we sample from an initial model, then generate\r\n",
      "self-critiques and revisions, and then finetune the original model on revised responses.\" – Constitutional AI Paper\n",
      "[3] \"In\r\n",
      "the RL phase, we sample from the finetuned model, use a model to evaluate which of the\r\n",
      "two samples is better, and then train a preference model from this dataset of AI prefer\u0002ences. We then train with RL using the preference model as the reward signal, i.e. we\r\n",
      "use ‘RL from AI Feedback’ (RLAIF).\" – Constitutional AI Paper\n",
      "[4] \"As a result we are able to train a harmless but non\u0002evasive AI assistant that engages with harmful queries by explaining its objections to them.\r\n",
      "Both the SL and RL methods can leverage chain-of-thought style reasoning to improve the\r\n",
      "human-judged performance and transparency of AI decision making. These methods make\r\n",
      "it possible to control AI behavior more precisely and with far fewer human labels.\" – Constitutional AI Paper\n",
      "[5] \"We referred to the technique as ‘constitutional AI’ (CAI) since we used a ‘constitution’ con\u0002sisting of human-written principles. We established two methods: (1) Constitutional AI which ‘bootstraps’ a\r\n",
      "helpful RLHF’s instruction-following abilities to critique and revise its own responses so as to remove harm\u0002ful content, and (2) RL with model-generated labels for harmlessness, which further improves harmlessness.\" – Constitutional AI Paper\n",
      "\n",
      "🔢 Tokens used: input=99002, output=450\n"
     ]
    }
   ],
   "execution_count": 1
  },
  {
   "metadata": {
    "ExecuteTime": {
     "end_time": "2025-04-02T20:28:07.513885Z",
     "start_time": "2025-04-02T20:27:48.786769Z"
    }
   },
   "cell_type": "code",
   "source": [
    "from src.agents.providers.anthropic_provider import ask_with_citations\n",
    "\n",
    "ask_with_citations(\n",
    "    \"What are the causes of ?\", [\n",
    "        {\n",
    "            \"title\": \"Causes of Cancer\",\n",
    "            \"data\": \"https://www.hilarispublisher.com/open-access/causes-of-cancer-what-to-know-about-cancer.pdf\"\n",
    "        }\n",
    "    ]\n",
    ")"
   ],
   "id": "9fc85b6a25d17929",
   "outputs": [
    {
     "name": "stdout",
     "output_type": "stream",
     "text": [
      "Answer :\n",
      "Based on the document, here are the key causes of cancer:\n",
      "\n",
      "1. Infectious Causes: Cancer can be caused by:\n",
      "- Bacteria\n",
      "- Parasites \n",
      "- Viruses\n",
      "- Environmental factors like metals, smoking, alcohol, electromagnetic radiation\n",
      "- Physical inactivity\n",
      "- Reproductive hormones\n",
      "- Diet and physical activity [1] 2. Environmental Factors:\n",
      "- Metals: While trace levels of metals are necessary nutrients, at higher concentrations they can be hazardous to living cells. Metals can act as both endocrine disruptors and carcinogens, causing hormonal disruption and malignant transformation. [2] - Smoking: Cigarette smoking has been linked to a wide range of neoplastic illnesses. Smokers have a higher relative chance of dying from cancers of lung, pancreas, head and neck, urinary system and bladder. [3] - Alcohol: There is a causative relationship between alcohol intake and cancers of the oral cavity, throat, esophagus, liver, rectum, larynx, colon and breast cancer among women. [4] - Radiation: Studies have found that exposure from moderately to high concentration may cause the majority of cancer, leukaemia, pulmonary, breast, thyroid malignancies, particularly at young age exposure to radiation. [5] 3. Occupational Factors: Occupational exposure to carcinogens can lead to malignant tumors. In developed countries, it is estimated that one in three people will acquire cancer at some point in their life. The transfer of hazardous businesses is also putting developing countries at risk. [6] 4. Hormonal Factors: Hormones play a key role in developing some of the world's most frequent cancers, including endometrial, breast, and ovarian cancers in women, and prostate cancer in men. Hormones are thought to influence cancer risk through affecting the pace of cell division and differentiation, and amount of vulnerable cells. [7] 5. Diet: Diet has an important role in causing cancers like breast and colon cancer. It has been predicted that intake of healthy food with good dietary fiber can prevent chances of all types of cancer. Low fibers in diet and imbalance between concentration of Omega-3 and Omega-6 fats increase cancer risk. This can be prevented by intake of vegetables and fruits which contain vitamin B12, selenium and antioxidants such as carotenoids. [8]\n",
      "\n",
      "Quotes :\n",
      "[1] \"Causes\r\n",
      "Cancer can be cause due to following cause\r\n",
      "Infectious which include bacteria, parasite, viruses environmental that \r\n",
      "include factors like metals, Smoking, alcohol, electromagnetic radiation, \r\n",
      "physical inactivity, reproductive hormones, diet, and physical activity are all \r\n",
      "investigated and describes as follow:-\r\n",
      "Infectious Cause\r\n",
      "Bacterial:-\r\n",
      "Infections are thought to be responsible for 20% of all human tumours \r\n",
      "(1).\" – Causes of Cancer\n",
      "[2] \"Environmental\r\n",
      "Metals\r\n",
      "Metals in trace levels are necessary nutrients, but at higher concentrations, \r\n",
      "they can be hazardous to living cells. Metals can act as both endocrine disruptors \r\n",
      "and carcinogens, causing hormonal disruption and malignant transformation.\" – Causes of Cancer\n",
      "[3] \"Smoking\r\n",
      "Cigarette smoking has been associated to a wide range of neoplastic \r\n",
      "illnesses, according to a large body of epidemiologic evidence. It has been \r\n",
      "discovered that smokers have a higher relative chance of dying from cancers \r\n",
      "of lung, pancreas, head and neck, urinary system and bladder.\" – Causes of Cancer\n",
      "[4] \"Alcohol\r\n",
      "There has been a causative relationship between alcohol intake and oral \r\n",
      "cavity malignancies, throat, oesophagus, liver, rectum, larynx, colon and, \r\n",
      "breast cancer among women, association with pancreatic and lung cancers is \r\n",
      "hypothesised.\" – Causes of Cancer\n",
      "[5] \"Radiation\r\n",
      "The intensive epidemiological examination was conducted on ionising \r\n",
      "radiation. Studies had found that exposure from moderately to high \r\n",
      "concentration may cause the majority of cancer, leukaemia, pulmonary, \r\n",
      "breast, thyroid malignancies, in particular at the age of youthful exposure to \r\n",
      "radiation [14].\" – Causes of Cancer\n",
      "[6] \"Occupation\r\n",
      "Occupational can lead to a malignant tumour produced caused by \r\n",
      "occupational expose to carcinogens. In developed countries, it is expected \r\n",
      "that one from the three person acquire cancer at any stage of their life. \r\n",
      "Transfers of hazardous businesses are also putting developing countries at \r\n",
      "risk.\" – Causes of Cancer\n",
      "[7] \"Hormones\r\n",
      "Hormones have a key part in the development of some of the world's \r\n",
      "most frequent cancers, including endometrial, breast, and ovarian cancers in \r\n",
      "women, and prostate cancer in men. Hormones are thought to influence cancer \r\n",
      "risk through influencing the pace division and differentiation of cell, and amount \r\n",
      "of vulnerable cell.\" – Causes of Cancer\n",
      "[8] \"Diet\r\n",
      "Diet has important important role in causing cancer like breast, colon \r\n",
      "cancer, and perhaps despite the lack of conclusive data, it has proven that \r\n",
      "intake dietary fibre can protects against colon cancer, while there is strong \r\n",
      "evidence that vegetable consumption does.\r\n",
      "It has predicted that intake of healthy food with good dietary fibre can \r\n",
      "prevent chances of all types of cancer. Low fibres in diet imbalance between \r\n",
      "concentration of Omega-3 and Omega-6 fats cause cancer risk.it can be \r\n",
      "prevented by intake of veggies and fruits which contain vitamin B12,selenium \r\n",
      "and antioxidant such as carotenoids.\" – Causes of Cancer\n",
      "\n",
      "🔢 Tokens used: input=16959, output=693\n"
     ]
    }
   ],
   "execution_count": 2
  }
 ],
 "metadata": {
  "kernelspec": {
   "name": "python3",
   "language": "python",
   "display_name": "Python 3 (ipykernel)"
  }
 },
 "nbformat": 5,
 "nbformat_minor": 9
}
