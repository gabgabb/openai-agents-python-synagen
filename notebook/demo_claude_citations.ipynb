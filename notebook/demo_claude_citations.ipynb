{
 "cells": [
  {
   "metadata": {
    "ExecuteTime": {
     "end_time": "2025-04-03T15:16:10.614771Z",
     "start_time": "2025-04-03T15:16:06.095552Z"
    }
   },
   "cell_type": "code",
   "source": [
    "from src.agents.providers.claude_citation_agent import ClaudeCitationAgent\n",
    "\n",
    "# Agent instance\n",
    "agent = ClaudeCitationAgent()\n",
    "\n",
    "question = \"What are causes of fatigue?\"\n",
    "documents = [\n",
    "    {\n",
    "        \"title\": \"Fatigue overview\",\n",
    "        \"data\": \"Fatigue is a common symptom that can be caused by a variety of factors, including: Dehydration, Sleep deprivation, Stress, Medical conditions (e.g., anemia, thyroid disorders), Medications (e.g., antihistamines, sedatives), Poor nutrition, Sedentary lifestyle, Mental health issues (e.g., depression, anxiety), Chronic fatigue syndrome.\"\n",
    "    },\n",
    "    {\n",
    "        \"title\": \"Fatigue Symptoms (mayoclinic.org)\",\n",
    "        \"data\": \"Most of the time fatigue can be traced to one or more lifestyle issues, such as poor sleep habits or lack of exercise. Fatigue can be caused by a medicine or linked to depression. Sometimes fatigue is a symptom of an illness that needs treatment.\"\n",
    "    }\n",
    "]\n",
    "\n",
    "result = agent.run(task=question, context={\"documents\": documents})\n",
    "\n",
    "print(result)"
   ],
   "id": "39bb0899a1fa5a71",
   "outputs": [
    {
     "name": "stdout",
     "output_type": "stream",
     "text": [
      "Answer:\n",
      "Based on the documents, fatigue has multiple potential causes that can be broadly categorized into lifestyle factors, medical conditions, and medications: Common causes of fatigue include:\n",
      "- Dehydration\n",
      "- Sleep deprivation\n",
      "- Stress\n",
      "- Medical conditions like anemia and thyroid disorders\n",
      "- Medications such as antihistamines and sedatives\n",
      "- Poor nutrition\n",
      "- Sedentary lifestyle\n",
      "- Mental health conditions including depression and anxiety\n",
      "- Chronic fatigue syndrome [1]  While fatigue is most commonly related to lifestyle factors like poor sleep habits or lack of exercise, it can also be:\n",
      "- A side effect of medications\n",
      "- Associated with depression\n",
      "- A symptom of an underlying illness requiring medical treatment [2]\n",
      "\n",
      "Quotes:\n",
      "[1] \"Fatigue is a common symptom that can be caused by a variety of factors, including: Dehydration, Sleep deprivation, Stress, Medical conditions (e.g., anemia, thyroid disorders), Medications (e.g., antihistamines, sedatives), Poor nutrition, Sedentary lifestyle, Mental health issues (e.g., depression, anxiety), Chronic fatigue syndrome.\" – Fatigue overview\n",
      "[2] \"Most of the time fatigue can be traced to one or more lifestyle issues, such as poor sleep habits or lack of exercise. Fatigue can be caused by a medicine or linked to depression. Sometimes fatigue is a symptom of an illness that needs treatment.\" – Fatigue Symptoms (mayoclinic.org)\n",
      "\n",
      "🔢 Tokens used: input=1036, output=196\n"
     ]
    }
   ],
   "execution_count": 6
  },
  {
   "metadata": {
    "ExecuteTime": {
     "end_time": "2025-04-03T14:44:17.637329Z",
     "start_time": "2025-04-03T14:44:13.298390Z"
    }
   },
   "cell_type": "code",
   "source": [
    "question = \"What are causes of fatigue?\"\n",
    "\n",
    "documents = [\n",
    "    {\n",
    "        \"title\": \"Fatigue overview\",\n",
    "        \"data\": \"Fatigue is normal, validate by wikipedia\"\n",
    "    }\n",
    "]\n",
    "\n",
    "result = agent.run(task=question, context={\"documents\": documents})\n",
    "\n",
    "print(result)"
   ],
   "id": "476f076c19eef591",
   "outputs": [
    {
     "name": "stdout",
     "output_type": "stream",
     "text": [
      "Answer:\n",
      "The provided document does not contain sufficient information to answer your question about the causes of fatigue. The document only contains a very basic statement about fatigue being normal but does not discuss any specific causes.\n",
      "\n",
      "To properly answer your question about causes of fatigue, we would need information about various physical, psychological, lifestyle, and medical factors that can contribute to fatigue.\n",
      "\n",
      "Quotes:\n",
      "No relevant quotes.\n",
      "\n",
      "🔢 Tokens used: input=778, output=86\n"
     ]
    }
   ],
   "execution_count": 2
  },
  {
   "metadata": {
    "ExecuteTime": {
     "end_time": "2025-04-03T15:48:37.445266Z",
     "start_time": "2025-04-03T15:48:14.475077Z"
    }
   },
   "cell_type": "code",
   "source": [
    "question = \"What is the main idea of Constitutional AI?\"\n",
    "documents = [\n",
    "    {\n",
    "        \"title\": \"Constitutional AI Paper\",\n",
    "        \"data\": \"data/Constitutional AI.pdf\"\n",
    "    }\n",
    "]\n",
    "\n",
    "result = agent.run(task=question, context={\"documents\": documents})\n",
    "\n",
    "print(result)"
   ],
   "id": "5fff338176878696",
   "outputs": [
    {
     "name": "stdout",
     "output_type": "stream",
     "text": [
      "Answer:\n",
      "Based on the paper, here are the key aspects of Constitutional AI: Constitutional AI is a method for training a harmless AI assistant through self-improvement, without any human labels identifying harmful outputs. The only human oversight is provided through a list of rules or principles, hence the name \"Constitutional AI\". [1] The process has two main stages:\n",
      "\n",
      "1. Supervised Learning Phase: In this phase, they sample from an initial model, generate self-critiques and revisions, and then finetune the original model on revised responses. [2] 2. Reinforcement Learning Phase: In this phase, they:\n",
      "- Sample from the finetuned model\n",
      "- Use a model to evaluate which samples are better\n",
      "- Train a preference model from this dataset of AI preferences\n",
      "- Use \"RL from AI Feedback\" (RLAIF) [3] The key outcomes are: - They are able to train a harmless but non-evasive AI assistant that engages with harmful queries by explaining its objections\n",
      "- Both SL and RL methods can leverage chain-of-thought reasoning to improve performance and transparency\n",
      "- These methods allow more precise control of AI behavior with far fewer human labels [4]  The motivation behind this approach is to develop techniques that don't rely on humans to supervise all aspects of AI behavior, and that can automatically test and enhance robustness to harmful behaviors. The methods aim to encode desirable AI behavior in a simple and transparent form, making it easier to understand and evaluate AI decision making. [5]\n",
      "\n",
      "Quotes:\n",
      "[1] \"We experiment with methods for training a harmless AI assistant through self\u0002improvement, without any human labels identifying harmful outputs. The only human\r\n",
      "oversight is provided through a list of rules or principles, and so we refer to the method as\r\n",
      "‘Constitutional AI’.\" – Constitutional AI Paper\n",
      "[2] \"In the supervised phase we sample from an initial model, then generate\r\n",
      "self-critiques and revisions, and then finetune the original model on revised responses.\" – Constitutional AI Paper\n",
      "[3] \"In\r\n",
      "the RL phase, we sample from the finetuned model, use a model to evaluate which of the\r\n",
      "two samples is better, and then train a preference model from this dataset of AI prefer\u0002ences. We then train with RL using the preference model as the reward signal, i.e. we\r\n",
      "use ‘RL from AI Feedback’ (RLAIF).\" – Constitutional AI Paper\n",
      "[4] \"As a result we are able to train a harmless but non\u0002evasive AI assistant that engages with harmful queries by explaining its objections to them.\r\n",
      "Both the SL and RL methods can leverage chain-of-thought style reasoning to improve the\r\n",
      "human-judged performance and transparency of AI decision making. These methods make\r\n",
      "it possible to control AI behavior more precisely and with far fewer human labels.\" – Constitutional AI Paper\n",
      "[5] \"This suggests that we will need to develop techniques that do not\r\n",
      "rely on humans to supervise all aspects of AI behavior, and that can be used to automatically test and enhance\r\n",
      "robustness to harmful behaviors. We also aim to develop methods that encode desirable AI behavior in a\r\n",
      "simple and transparent form, and that make it easier to understand and evaluate AI decision making.\" – Constitutional AI Paper\n",
      "\n",
      "🔢 Tokens used: input=13, output=424\n"
     ]
    }
   ],
   "execution_count": 8
  },
  {
   "metadata": {
    "ExecuteTime": {
     "end_time": "2025-04-03T14:46:31.891385Z",
     "start_time": "2025-04-03T14:46:12.497639Z"
    }
   },
   "cell_type": "code",
   "source": [
    "question = \"What are the causes of cancer?\"\n",
    "\n",
    "documents = [\n",
    "    {\n",
    "        \"title\": \"Causes of Cancer\",\n",
    "        \"data\": \"https://www.hilarispublisher.com/open-access/causes-of-cancer-what-to-know-about-cancer.pdf\"\n",
    "    }\n",
    "]\n",
    "\n",
    "result = agent.run(task=question, context={\"documents\": documents})\n",
    "\n",
    "print(result)"
   ],
   "id": "9fc85b6a25d17929",
   "outputs": [
    {
     "name": "stdout",
     "output_type": "stream",
     "text": [
      "Answer:\n",
      "Based on the document, here are the major causes of cancer:\n",
      "\n",
      "1. Infectious Causes:\n",
      "- Cancer can be caused by infectious agents including bacteria, parasites, and viruses [1] 2. Environmental Factors:\n",
      "- Metals: While trace levels of metals are necessary nutrients, at higher concentrations they can be hazardous and act as both endocrine disruptors and carcinogens, causing hormonal disruption and malignant transformation [2] - Smoking: Strong epidemiologic evidence links smoking to multiple cancers, with smokers having higher relative risk of dying from cancers of the lung, pancreas, head and neck, urinary system and bladder. Research has also linked smoking to increased risk of leukemia and myeloma [3] - Alcohol: Has been causatively linked to cancers of the oral cavity, throat, esophagus, liver, rectum, larynx, colon and breast cancer in women [4] - Radiation: Intensive epidemiological studies have found that exposure from moderate to high concentrations may cause the majority of cancer, particularly leukemia, pulmonary, breast, and thyroid malignancies, especially with youthful exposure to radiation [5] 3. Occupational Factors:\n",
      "- Occupational exposure to carcinogens can lead to malignant tumors. In developed countries, it's estimated that one in three people will acquire cancer at some point in their life. The transfer of hazardous businesses is also putting developing countries at risk. While occupational cancers are treated the same as non-occupational ones, identifying them is critical for public health since they are preventable [6] 4. Hormonal Factors:\n",
      "- Hormones play a key role in some of the world's most frequent cancers, including endometrial, breast, and ovarian cancers in women, and prostate cancer in men. They are thought to influence cancer risk by affecting the pace of cell division and differentiation, and the amount of vulnerable cells [7] 5. Diet and Physical Activity:\n",
      "- Diet plays an important role in causing cancers like breast and colon cancer. It's predicted that intake of healthy food with good dietary fiber can prevent chances of all types of cancer. Low fiber diets and imbalance between Omega-3 and Omega-6 fats increase cancer risk. This can be prevented by intake of vegetables and fruits which contain vitamin B12, selenium and antioxidants such as carotenoids [8] The document emphasizes that cancer has become a drastic condition, and understanding its causes, mechanisms and how it can increase with other factors has become important for prevention and management [9] .\n",
      "\n",
      "Quotes:\n",
      "[1] \"Causes\r\n",
      "Cancer can be cause due to following cause\r\n",
      "Infectious which include bacteria, parasite, viruses environmental that \r\n",
      "include factors like metals, Smoking, alcohol, electromagnetic radiation, \r\n",
      "physical inactivity, reproductive hormones, diet, and physical activity are all \r\n",
      "investigated and describes as follow:-\r\n",
      "Infectious Cause\r\n",
      "Bacterial:-\r\n",
      "Infections are thought to be responsible for 20% of all human tumours \r\n",
      "(1).\" – Causes of Cancer\n",
      "[2] \"Environmental\r\n",
      "Metals\r\n",
      "Metals in trace levels are necessary nutrients, but at higher concentrations, \r\n",
      "they can be hazardous to living cells. Metals can act as both endocrine disruptors \r\n",
      "and carcinogens, causing hormonal disruption and malignant transformation.\" – Causes of Cancer\n",
      "[3] \"Smoking\r\n",
      "Cigarette smoking has been associated to a wide range of neoplastic \r\n",
      "illnesses, according to a large body of epidemiologic evidence. It has been \r\n",
      "discovered that smokers have a higher relative chance of dying from cancers \r\n",
      "of lung, pancreas, head and neck, urinary system and bladder. Recently \r\n",
      "research had linked smoking as increased possibility of leukaemia as well as \r\n",
      "myeloma.\" – Causes of Cancer\n",
      "[4] \"Alcohol\r\n",
      "There has been a causative relationship between alcohol intake and oral \r\n",
      "cavity malignancies, throat, oesophagus, liver, rectum, larynx, colon and, \r\n",
      "breast cancer among women, association with pancreatic and lung cancers is \r\n",
      "hypothesised.\" – Causes of Cancer\n",
      "[5] \"Radiation\r\n",
      "The intensive epidemiological examination was conducted on ionising \r\n",
      "radiation. Studies had found that exposure from moderately to high \r\n",
      "concentration may cause the majority of cancer, leukaemia, pulmonary, \r\n",
      "breast, thyroid malignancies, in particular at the age of youthful exposure to \r\n",
      "radiation [14].\" – Causes of Cancer\n",
      "[6] \"Occupation\r\n",
      "Occupational can lead to a malignant tumour produced caused by \r\n",
      "occupational expose to carcinogens. In developed countries, it is expected \r\n",
      "that one from the three person acquire cancer at any stage of their life. \r\n",
      "Transfers of hazardous businesses are also putting developing countries at \r\n",
      "risk. Occupational cancers are not pathologically or clinically different from \r\n",
      "their non-occupational counterparts, and they are treated in the same way as \r\n",
      "non-occupational malignancies. Nonetheless, in terms of public health, the \r\n",
      "identification of occupational malignancies is critical, because all occupational \r\n",
      "cancers, like other occupational diseases, are preventable.\" – Causes of Cancer\n",
      "[7] \"Hormones\r\n",
      "Hormones have a key part in the development of some of the world's \r\n",
      "most frequent cancers, including endometrial, breast, and ovarian cancers in \r\n",
      "women, and prostate cancer in men. Hormones are thought to influence cancer \r\n",
      "risk through influencing the pace division and differentiation of cell, and amount \r\n",
      "of vulnerable cell.\" – Causes of Cancer\n",
      "[8] \"Diet\r\n",
      "Diet has important important role in causing cancer like breast, colon \r\n",
      "cancer, and perhaps despite the lack of conclusive data, it has proven that \r\n",
      "intake dietary fibre can protects against colon cancer, while there is strong \r\n",
      "evidence that vegetable consumption does.\r\n",
      "It has predicted that intake of healthy food with good dietary fibre can \r\n",
      "prevent chances of all types of cancer. Low fibres in diet imbalance between \r\n",
      "concentration of Omega-3 and Omega-6 fats cause cancer risk.it can be \r\n",
      "prevented by intake of veggies and fruits which contain vitamin B12,selenium \r\n",
      "and antioxidant such as carotenoids.\" – Causes of Cancer\n",
      "[9] \"Markers of tumour\r\n",
      "Conclusion\r\n",
      "Nowadays, cancer has become drastic condition. Understanding the \r\n",
      "cause of cancer, its mechanism and how it can increase with other factor has \r\n",
      "become important for its prevention and further management are required.\" – Causes of Cancer\n",
      "\n",
      "🔢 Tokens used: input=11, output=763\n"
     ]
    }
   ],
   "execution_count": 5
  },
  {
   "metadata": {
    "ExecuteTime": {
     "end_time": "2025-04-03T15:51:31.491492Z",
     "start_time": "2025-04-03T15:51:17.227483Z"
    }
   },
   "cell_type": "code",
   "source": [
    "question = \"Do epigenomic marks associated with OA susceptibility are shared with post-surgical pain development?\"\n",
    "\n",
    "documents = [\n",
    "    {\n",
    "        \"title\": \"Epigenomic articular development\",\n",
    "        \"data\": \"data/Genes_1.pdf\"\n",
    "    },\n",
    "    {\n",
    "        \"title\": \"Epigenetic score\",\n",
    "        \"data\": \"data/Genes_2.pdf\"\n",
    "    }\n",
    "]\n",
    "\n",
    "result = agent.run(task=question, context={\"documents\": documents})\n",
    "\n",
    "print(result)"
   ],
   "id": "3c5c0a97548e8fbd",
   "outputs": [
    {
     "name": "stdout",
     "output_type": "stream",
     "text": [
      "Answer:\n",
      "Based on the documents, there are several key findings about the relationship between epigenomic marks, OA susceptibility, and post-surgical pain development:\n",
      "\n",
      "1. Shared Epigenetic Factors: Genetic risk factors contribute ~30% to lifetime risk of developing knee OA. Previous studies have identified methylation quantitative trait loci co-localizing with OA risk SNVs (OA-mQTLs). This interplay between DNA sequence and methylation status has been shown to underpin tissue-specific mechanisms of cartilage gene expression. [1] 2. Early Life Epigenetic Patterns: A targeted study investigating OA-mQTLs in developing human limbs at 7 well-characterized loci found that 85% of the OA mQTLs also operated in fetal tissues. [2] 3. Post-Surgical Pain Prediction: Researchers identified 210 differentially methylated candidate gene promoters in surgical super-responders relative to non-responders. Thirty-four of these candidate promoters had greater than 1.5-fold difference in methylation status, and twelve were associated with inflammatory or neurological processes or diseases. [3] 4. Clinical Applications: Scientists have identified an epigenetic biosignature associated with recovery/non-recovery from pain following surgery for LSS due to facet OA. Using this biosignature, they have determined a biologically plausible candidate E-PRS that may enable a personalized/precision medicine approach to accurately identify spine OA patients that are likely to benefit from surgery. [4] 5. Ongoing Research: Current efforts are focused on further validating the E-PRS's predictive ability in a larger cohort. [5] This evidence suggests that there is indeed overlap between epigenomic marks associated with OA susceptibility and post-surgical pain development, though the full extent and clinical implications are still being investigated.\n",
      "\n",
      "Quotes:\n",
      "[1] \"Genetic risk factors contribute ~30% to the lifetime risk of developing\r\n",
      "knee OA. Previous studies have identified methylation quantitative trait\r\n",
      "loci co-localising with OA risk SNVs (OA-mQTLs). This interplay between\r\n",
      "DNA sequence and methylation status has further been shown to un\u0002derpin tissue-specific mechanisms of cartilage gene expression.\" – Epigenomic articular development\n",
      "[2] \"Our recent,\r\n",
      "targeted study investigated the presence of OA-mQTLs in developing\r\n",
      "human limbs, at 7 well-characterised loci, comprising 39 CpGs. At this\r\n",
      "small number of loci, we identified that 85% of the OA mQTLs also op\u0002erated in foetal tissues.\" – Epigenomic articular development\n",
      "[3] \"Results: We identified 210 differentially methylated candidate gene\r\n",
      "promoters (with nominal uncorrected p-value < 0.01) in super-re\u0002sponders relative to non-responders. Thirty-four of these candidate\r\n",
      "promoters had greater than 1.5-fold difference in methylation status in\r\n",
      "super- vs. non-responders, and, based on a literature search, twelve of\r\n",
      "these were associated with inflammatory or neurological processes or\r\n",
      "diseases.\" – Epigenetic score\n",
      "[4] \"Conclusions: We have identified an epigenetic biosignature associated\r\n",
      "with recovery/non-recovery from pain following surgery for LSS due to\r\n",
      "facet OA. Using this biosignature, we have determined a biologically\r\n",
      "plausible candidate E-PRS that may enable a personalized/precision\r\n",
      "medicine approach to accurately identify spine OA patients that are likely\r\n",
      "to benefit from surgery.\" – Epigenetic score\n",
      "[5] \"Currently, our ongoing efforts are focussed on\r\n",
      "further validating the E-PRS’s predictive ability in a larger cohort.\" – Epigenetic score\n",
      "\n",
      "🔢 Tokens used: input=24, output=514\n"
     ]
    }
   ],
   "execution_count": 10
  }
 ],
 "metadata": {
  "kernelspec": {
   "name": "python3",
   "language": "python",
   "display_name": "Python 3 (ipykernel)"
  }
 },
 "nbformat": 5,
 "nbformat_minor": 9
}
